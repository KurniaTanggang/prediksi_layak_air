{
  "nbformat": 4,
  "nbformat_minor": 0,
  "metadata": {
    "colab": {
      "provenance": [],
      "collapsed_sections": [
        "2oHaU91nv-bn"
      ],
      "authorship_tag": "ABX9TyOCRLBMBSKgEInv0TDCrQka",
      "include_colab_link": true
    },
    "kernelspec": {
      "name": "python3",
      "display_name": "Python 3"
    },
    "language_info": {
      "name": "python"
    }
  },
  "cells": [
    {
      "cell_type": "markdown",
      "metadata": {
        "id": "view-in-github",
        "colab_type": "text"
      },
      "source": [
        "<a href=\"https://colab.research.google.com/github/KurniaTanggang/prediksi_layak_air/blob/main/Prediksi%20Kelayakan%20Air.ipynb\" target=\"_parent\"><img src=\"https://colab.research.google.com/assets/colab-badge.svg\" alt=\"Open In Colab\"/></a>"
      ]
    },
    {
      "cell_type": "markdown",
      "metadata": {
        "id": "TSFKllgX4IvJ"
      },
      "source": [
        "# Kesehatan : Prediksi Kelayakan Air"
      ]
    },
    {
      "cell_type": "markdown",
      "metadata": {
        "id": "fS1feMhjYUYL"
      },
      "source": [
        "## Business Understanding\n",
        "Memprediksi air layak minum dan tidak layak minum dengan menggunakan beberapa parameter. Dari parameter tersebut, model machine learning akan mengklasifikasikan mana yang layak dan mana yang tidak layak sehingga dapat digunakan untuk memprediksi kelayakan air."
      ]
    },
    {
      "cell_type": "markdown",
      "metadata": {
        "id": "K-46uMHKYaqe"
      },
      "source": [
        "### Problem Staements\n",
        "- Apa saja parameter yang paling berpengaruh terhadap kelayakan air minum ?\n",
        "- Bagaiaman membuat model yang dapat memprediksi kelayakan air ?"
      ]
    },
    {
      "cell_type": "markdown",
      "metadata": {
        "id": "F_94Lbx-Yj4P"
      },
      "source": [
        "### Goals\n",
        "- Mengetahui parameter yang paling berpengaruh terhadap kelayakan air.\n",
        "- Membuat model machine learning yang dapat memprediksi kelayakan air minum."
      ]
    },
    {
      "cell_type": "markdown",
      "metadata": {
        "id": "-f-Lg5XDYo_K"
      },
      "source": [
        "### Solution statements\n",
        "Untuk dapat mengetahui kelayakan air, maka dibuatlah prediksi air layak minum dan tidak layak minum berdasarkan parameter pH, Hardness, Solids, Chloramines, Sulfate, Conductivity, Organic_carbon, Trihalomethanes, Turbidity, dan Potability dengan **Algoritma  Random Forest**. **Random Forest** termasuk ke dalam ensemble learning yang terdiri dari beberapa model yang bekerja bersamaan. Random forest tersusun dari banyak algoritma decision tree yang pembagian data dan fiturnya dipilih secara acak (random). \n",
        "\n",
        "Karena ini adalah kasus klasifikasi, maka akan digunakan Random Forest Classifier. Proses klasifikasi pada random forest berawal dari memecah data sampel yang ada kedalam decision tree secara acak. Setelah pohon terbentuk,maka akan dilakukan voting pada setiap kelas dari data sampel. Kemudian, mengkombinasikan vote dari setiap kelas kemudian diambil vote yang paling banyak."
      ]
    },
    {
      "cell_type": "markdown",
      "metadata": {
        "id": "lbQFLnTotyg2"
      },
      "source": [
        "Library yang dibutuhkan"
      ]
    },
    {
      "cell_type": "code",
      "metadata": {
        "id": "4_mDQyt8R-hI"
      },
      "source": [
        "import numpy as np\n",
        "import matplotlib.pyplot as plt\n",
        "import pandas as pd\n",
        "%matplotlib inline\n",
        "import seaborn as sns\n",
        "from sklearn.utils import resample\n",
        "from sklearn.utils import shuffle\n",
        "\n",
        "from sklearn.model_selection import train_test_split\n",
        "from sklearn.ensemble import RandomForestClassifier\n",
        "from sklearn.metrics import classification_report"
      ],
      "execution_count": null,
      "outputs": []
    },
    {
      "cell_type": "markdown",
      "metadata": {
        "id": "nqF9VkN3aTiJ"
      },
      "source": [
        "## Data Understanding\n",
        "Data yang akan digunakan adalah Dataset Water Potability yang diambil dari [Kaggle](https://www.kaggle.com/adityakadiwal/water-potability). "
      ]
    },
    {
      "cell_type": "markdown",
      "metadata": {
        "id": "5PZ2NlZJuj_m"
      },
      "source": [
        "### Data Loading\n",
        "Load dataset water_potability"
      ]
    },
    {
      "cell_type": "code",
      "metadata": {
        "colab": {
          "base_uri": "https://localhost:8080/",
          "height": 444
        },
        "id": "qoJSoUNV_vZw",
        "outputId": "ef3cde2f-9bd8-4355-8dda-befbee378bb4"
      },
      "source": [
        "data_air = pd.read_csv('water_potability.csv')\n",
        "data_air"
      ],
      "execution_count": null,
      "outputs": [
        {
          "output_type": "execute_result",
          "data": {
            "text/html": [
              "<div>\n",
              "<style scoped>\n",
              "    .dataframe tbody tr th:only-of-type {\n",
              "        vertical-align: middle;\n",
              "    }\n",
              "\n",
              "    .dataframe tbody tr th {\n",
              "        vertical-align: top;\n",
              "    }\n",
              "\n",
              "    .dataframe thead th {\n",
              "        text-align: right;\n",
              "    }\n",
              "</style>\n",
              "<table border=\"1\" class=\"dataframe\">\n",
              "  <thead>\n",
              "    <tr style=\"text-align: right;\">\n",
              "      <th></th>\n",
              "      <th>ph</th>\n",
              "      <th>Hardness</th>\n",
              "      <th>Solids</th>\n",
              "      <th>Chloramines</th>\n",
              "      <th>Sulfate</th>\n",
              "      <th>Conductivity</th>\n",
              "      <th>Organic_carbon</th>\n",
              "      <th>Trihalomethanes</th>\n",
              "      <th>Turbidity</th>\n",
              "      <th>Potability</th>\n",
              "    </tr>\n",
              "  </thead>\n",
              "  <tbody>\n",
              "    <tr>\n",
              "      <th>0</th>\n",
              "      <td>NaN</td>\n",
              "      <td>204.890455</td>\n",
              "      <td>20791.318981</td>\n",
              "      <td>7.300212</td>\n",
              "      <td>368.516441</td>\n",
              "      <td>564.308654</td>\n",
              "      <td>10.379783</td>\n",
              "      <td>86.990970</td>\n",
              "      <td>2.963135</td>\n",
              "      <td>0</td>\n",
              "    </tr>\n",
              "    <tr>\n",
              "      <th>1</th>\n",
              "      <td>3.716080</td>\n",
              "      <td>129.422921</td>\n",
              "      <td>18630.057858</td>\n",
              "      <td>6.635246</td>\n",
              "      <td>NaN</td>\n",
              "      <td>592.885359</td>\n",
              "      <td>15.180013</td>\n",
              "      <td>56.329076</td>\n",
              "      <td>4.500656</td>\n",
              "      <td>0</td>\n",
              "    </tr>\n",
              "    <tr>\n",
              "      <th>2</th>\n",
              "      <td>8.099124</td>\n",
              "      <td>224.236259</td>\n",
              "      <td>19909.541732</td>\n",
              "      <td>9.275884</td>\n",
              "      <td>NaN</td>\n",
              "      <td>418.606213</td>\n",
              "      <td>16.868637</td>\n",
              "      <td>66.420093</td>\n",
              "      <td>3.055934</td>\n",
              "      <td>0</td>\n",
              "    </tr>\n",
              "    <tr>\n",
              "      <th>3</th>\n",
              "      <td>8.316766</td>\n",
              "      <td>214.373394</td>\n",
              "      <td>22018.417441</td>\n",
              "      <td>8.059332</td>\n",
              "      <td>356.886136</td>\n",
              "      <td>363.266516</td>\n",
              "      <td>18.436524</td>\n",
              "      <td>100.341674</td>\n",
              "      <td>4.628771</td>\n",
              "      <td>0</td>\n",
              "    </tr>\n",
              "    <tr>\n",
              "      <th>4</th>\n",
              "      <td>9.092223</td>\n",
              "      <td>181.101509</td>\n",
              "      <td>17978.986339</td>\n",
              "      <td>6.546600</td>\n",
              "      <td>310.135738</td>\n",
              "      <td>398.410813</td>\n",
              "      <td>11.558279</td>\n",
              "      <td>31.997993</td>\n",
              "      <td>4.075075</td>\n",
              "      <td>0</td>\n",
              "    </tr>\n",
              "    <tr>\n",
              "      <th>...</th>\n",
              "      <td>...</td>\n",
              "      <td>...</td>\n",
              "      <td>...</td>\n",
              "      <td>...</td>\n",
              "      <td>...</td>\n",
              "      <td>...</td>\n",
              "      <td>...</td>\n",
              "      <td>...</td>\n",
              "      <td>...</td>\n",
              "      <td>...</td>\n",
              "    </tr>\n",
              "    <tr>\n",
              "      <th>3271</th>\n",
              "      <td>4.668102</td>\n",
              "      <td>193.681735</td>\n",
              "      <td>47580.991603</td>\n",
              "      <td>7.166639</td>\n",
              "      <td>359.948574</td>\n",
              "      <td>526.424171</td>\n",
              "      <td>13.894419</td>\n",
              "      <td>66.687695</td>\n",
              "      <td>4.435821</td>\n",
              "      <td>1</td>\n",
              "    </tr>\n",
              "    <tr>\n",
              "      <th>3272</th>\n",
              "      <td>7.808856</td>\n",
              "      <td>193.553212</td>\n",
              "      <td>17329.802160</td>\n",
              "      <td>8.061362</td>\n",
              "      <td>NaN</td>\n",
              "      <td>392.449580</td>\n",
              "      <td>19.903225</td>\n",
              "      <td>NaN</td>\n",
              "      <td>2.798243</td>\n",
              "      <td>1</td>\n",
              "    </tr>\n",
              "    <tr>\n",
              "      <th>3273</th>\n",
              "      <td>9.419510</td>\n",
              "      <td>175.762646</td>\n",
              "      <td>33155.578218</td>\n",
              "      <td>7.350233</td>\n",
              "      <td>NaN</td>\n",
              "      <td>432.044783</td>\n",
              "      <td>11.039070</td>\n",
              "      <td>69.845400</td>\n",
              "      <td>3.298875</td>\n",
              "      <td>1</td>\n",
              "    </tr>\n",
              "    <tr>\n",
              "      <th>3274</th>\n",
              "      <td>5.126763</td>\n",
              "      <td>230.603758</td>\n",
              "      <td>11983.869376</td>\n",
              "      <td>6.303357</td>\n",
              "      <td>NaN</td>\n",
              "      <td>402.883113</td>\n",
              "      <td>11.168946</td>\n",
              "      <td>77.488213</td>\n",
              "      <td>4.708658</td>\n",
              "      <td>1</td>\n",
              "    </tr>\n",
              "    <tr>\n",
              "      <th>3275</th>\n",
              "      <td>7.874671</td>\n",
              "      <td>195.102299</td>\n",
              "      <td>17404.177061</td>\n",
              "      <td>7.509306</td>\n",
              "      <td>NaN</td>\n",
              "      <td>327.459760</td>\n",
              "      <td>16.140368</td>\n",
              "      <td>78.698446</td>\n",
              "      <td>2.309149</td>\n",
              "      <td>1</td>\n",
              "    </tr>\n",
              "  </tbody>\n",
              "</table>\n",
              "<p>3276 rows × 10 columns</p>\n",
              "</div>"
            ],
            "text/plain": [
              "            ph    Hardness  ...  Turbidity  Potability\n",
              "0          NaN  204.890455  ...   2.963135           0\n",
              "1     3.716080  129.422921  ...   4.500656           0\n",
              "2     8.099124  224.236259  ...   3.055934           0\n",
              "3     8.316766  214.373394  ...   4.628771           0\n",
              "4     9.092223  181.101509  ...   4.075075           0\n",
              "...        ...         ...  ...        ...         ...\n",
              "3271  4.668102  193.681735  ...   4.435821           1\n",
              "3272  7.808856  193.553212  ...   2.798243           1\n",
              "3273  9.419510  175.762646  ...   3.298875           1\n",
              "3274  5.126763  230.603758  ...   4.708658           1\n",
              "3275  7.874671  195.102299  ...   2.309149           1\n",
              "\n",
              "[3276 rows x 10 columns]"
            ]
          },
          "metadata": {},
          "execution_count": 2
        }
      ]
    },
    {
      "cell_type": "markdown",
      "metadata": {
        "id": "Z-MH8rZoEZpP"
      },
      "source": [
        "### Exploratory Data Analysis\n",
        "Pada data air terdapat 3276 baris dan 10 kolom yaitu : \n",
        "1. ph : pH air (0 - 14)\n",
        "2. Hardness : Kapasitar air untuk mengendapkan sabun (mg/L)\n",
        "3. Solids : Total padatan terlarut (ppm)\n",
        "4. Chloramines : Jumlah Chloramin (ppm)\n",
        "5. Sulfate : Jumlah sulfat (mg/L)\n",
        "6. Conductivity : Konduktivitas listrik pada air (μS/cm)\n",
        "7. Organic_carbon : Jumlah organic carbon (ppm)\n",
        "8. Trihalomethanes : Jumalah Trihalomethanes in (μg/L)\n",
        "9. Turbidity : Kekeruhan\n",
        "10. Potability : Kelayakan air. Layak = 1 dan tidak layak = 0\n",
        " \n",
        "EDA adalah proses menganalisis karakteristik, menemukan pola, anomali, dan memeriksa asumsi pada data.\n",
        "\n"
      ]
    },
    {
      "cell_type": "markdown",
      "metadata": {
        "id": "boWEbjhsvNeR"
      },
      "source": [
        "#### Deskripsi Variabel"
      ]
    },
    {
      "cell_type": "code",
      "metadata": {
        "id": "n5kdhz9tEcS4",
        "colab": {
          "base_uri": "https://localhost:8080/"
        },
        "outputId": "c1826b85-6734-4d9c-a702-6634336f085d"
      },
      "source": [
        "# mengecek informasi pada dataset\n",
        "data_air.info()"
      ],
      "execution_count": null,
      "outputs": [
        {
          "output_type": "stream",
          "name": "stdout",
          "text": [
            "<class 'pandas.core.frame.DataFrame'>\n",
            "RangeIndex: 3276 entries, 0 to 3275\n",
            "Data columns (total 10 columns):\n",
            " #   Column           Non-Null Count  Dtype  \n",
            "---  ------           --------------  -----  \n",
            " 0   ph               2785 non-null   float64\n",
            " 1   Hardness         3276 non-null   float64\n",
            " 2   Solids           3276 non-null   float64\n",
            " 3   Chloramines      3276 non-null   float64\n",
            " 4   Sulfate          2495 non-null   float64\n",
            " 5   Conductivity     3276 non-null   float64\n",
            " 6   Organic_carbon   3276 non-null   float64\n",
            " 7   Trihalomethanes  3114 non-null   float64\n",
            " 8   Turbidity        3276 non-null   float64\n",
            " 9   Potability       3276 non-null   int64  \n",
            "dtypes: float64(9), int64(1)\n",
            "memory usage: 256.1 KB\n"
          ]
        }
      ]
    },
    {
      "cell_type": "markdown",
      "metadata": {
        "id": "Gq3NQ93OE1gt"
      },
      "source": [
        "Semua kolom merupakan kolom numerik. Kolom yang menjadi target adalah Potability dengan tipe data int64."
      ]
    },
    {
      "cell_type": "markdown",
      "metadata": {
        "id": "A40yXT3Pvcqq"
      },
      "source": [
        "#### Missing value dan Keseimbangan Data\n",
        "Mengecek missing value."
      ]
    },
    {
      "cell_type": "code",
      "metadata": {
        "id": "ETLLx8V4hAot",
        "colab": {
          "base_uri": "https://localhost:8080/"
        },
        "outputId": "8dcc5e50-9e04-4764-de92-a66619fbeb1e"
      },
      "source": [
        "data_air.isnull().sum()"
      ],
      "execution_count": null,
      "outputs": [
        {
          "output_type": "execute_result",
          "data": {
            "text/plain": [
              "ph                 491\n",
              "Hardness             0\n",
              "Solids               0\n",
              "Chloramines          0\n",
              "Sulfate            781\n",
              "Conductivity         0\n",
              "Organic_carbon       0\n",
              "Trihalomethanes    162\n",
              "Turbidity            0\n",
              "Potability           0\n",
              "dtype: int64"
            ]
          },
          "metadata": {},
          "execution_count": 4
        }
      ]
    },
    {
      "cell_type": "markdown",
      "metadata": {
        "id": "7qWs10XihPzN"
      },
      "source": [
        "Menangani missing value dengan mengisi nilai yang kosong dengan nilai rata-rata.\n"
      ]
    },
    {
      "cell_type": "code",
      "metadata": {
        "id": "PVQtDWKdhenq",
        "colab": {
          "base_uri": "https://localhost:8080/"
        },
        "outputId": "9506b562-147f-4143-d7ff-1c57102f427d"
      },
      "source": [
        "data_air['ph'].fillna(data_air['ph'].mean(), inplace=True)\n",
        "data_air['Sulfate'].fillna(data_air['Sulfate'].mean(), inplace=True)\n",
        "data_air['Trihalomethanes'].fillna(data_air['Trihalomethanes'].mean(), inplace=True)\n",
        "print(\"Jumlah data_air = \", data_air.shape)\n",
        "data_air.isnull().sum()"
      ],
      "execution_count": null,
      "outputs": [
        {
          "output_type": "stream",
          "name": "stdout",
          "text": [
            "Jumlah data_air =  (3276, 10)\n"
          ]
        },
        {
          "output_type": "execute_result",
          "data": {
            "text/plain": [
              "ph                 0\n",
              "Hardness           0\n",
              "Solids             0\n",
              "Chloramines        0\n",
              "Sulfate            0\n",
              "Conductivity       0\n",
              "Organic_carbon     0\n",
              "Trihalomethanes    0\n",
              "Turbidity          0\n",
              "Potability         0\n",
              "dtype: int64"
            ]
          },
          "metadata": {},
          "execution_count": 5
        }
      ]
    },
    {
      "cell_type": "markdown",
      "metadata": {
        "id": "AEhaQrMIMbrO"
      },
      "source": [
        "Mengecek data sampel pada Potability"
      ]
    },
    {
      "cell_type": "code",
      "metadata": {
        "id": "LdyFRNqqGEak",
        "colab": {
          "base_uri": "https://localhost:8080/"
        },
        "outputId": "68f98181-951b-4b25-c7af-fa3046cb4eb3"
      },
      "source": [
        "data_air['Potability'].value_counts()"
      ],
      "execution_count": null,
      "outputs": [
        {
          "output_type": "execute_result",
          "data": {
            "text/plain": [
              "0    1998\n",
              "1    1278\n",
              "Name: Potability, dtype: int64"
            ]
          },
          "metadata": {},
          "execution_count": 6
        }
      ]
    },
    {
      "cell_type": "markdown",
      "metadata": {
        "id": "bMuKRaIcKF6B"
      },
      "source": [
        "Data potability mempunyai kesenjangan yang besar, sehingga perlu diseimbangkan untuk menghindari bias dengan menggunakan fungsi resample, concat dan shuffle."
      ]
    },
    {
      "cell_type": "code",
      "metadata": {
        "id": "ONe1pkTkGNKt",
        "colab": {
          "base_uri": "https://localhost:8080/"
        },
        "outputId": "0f33f5d6-7127-4065-cf0e-c9a04425e27e"
      },
      "source": [
        "non_potable  = data_air[data_air['Potability']==0]   \n",
        "potable = data_air[data_air['Potability']==1]  \n",
        "\n",
        "#n_samples = 1998, yang berarti kita ingin sampel 1 (potable) mempunyai sampel yang sama dengan sampel 0 (non_potable)\n",
        "data_air_minority_upsampled = resample(potable, replace = True, n_samples = 1998) \n",
        "data_air = pd.concat([non_potable, data_air_minority_upsampled])\n",
        "\n",
        "data_air = shuffle(data_air)\n",
        "data_air['Potability'].value_counts()"
      ],
      "execution_count": null,
      "outputs": [
        {
          "output_type": "execute_result",
          "data": {
            "text/plain": [
              "1    1998\n",
              "0    1998\n",
              "Name: Potability, dtype: int64"
            ]
          },
          "metadata": {},
          "execution_count": 7
        }
      ]
    },
    {
      "cell_type": "markdown",
      "metadata": {
        "id": "YKl-8xvnfxO7"
      },
      "source": [
        "Sekarang Potability sudah seimbangan dan dataset berjumlah 3996."
      ]
    },
    {
      "cell_type": "code",
      "metadata": {
        "id": "ON84VCEff8Zt",
        "colab": {
          "base_uri": "https://localhost:8080/"
        },
        "outputId": "992bc77d-4cdf-4826-e206-ecfb8dd65b32"
      },
      "source": [
        "data_air.shape"
      ],
      "execution_count": null,
      "outputs": [
        {
          "output_type": "execute_result",
          "data": {
            "text/plain": [
              "(3996, 10)"
            ]
          },
          "metadata": {},
          "execution_count": 8
        }
      ]
    },
    {
      "cell_type": "markdown",
      "metadata": {
        "id": "w0z5F_y99Uom"
      },
      "source": [
        "#### Penanganan Outlier dengan Visualisasi data dan IQR\n"
      ]
    },
    {
      "cell_type": "markdown",
      "metadata": {
        "id": "2oHaU91nv-bn"
      },
      "source": [
        "##### Visualisasi Data\n",
        "Visualisasi ph"
      ]
    },
    {
      "cell_type": "code",
      "metadata": {
        "id": "au3cF91b9W1r",
        "colab": {
          "base_uri": "https://localhost:8080/"
        },
        "outputId": "06556bbd-6050-47f1-b251-040665a499dc"
      },
      "source": [
        "sns.boxplot(x=data_air['ph'])"
      ],
      "execution_count": null,
      "outputs": [
        {
          "output_type": "execute_result",
          "data": {
            "text/plain": [
              "<matplotlib.axes._subplots.AxesSubplot at 0x7fe3f3a369d0>"
            ]
          },
          "metadata": {},
          "execution_count": 9
        },
        {
          "output_type": "display_data",
          "data": {
            "image/png": "[encoded data removed]",
            "text/plain": [
              "<Figure size 432x288 with 1 Axes>"
            ]
          },
          "metadata": {
            "needs_background": "light"
          }
        }
      ]
    },
    {
      "cell_type": "markdown",
      "metadata": {
        "id": "9v5DSGXTwbea"
      },
      "source": [
        "Visualisasi Hardness"
      ]
    },
    {
      "cell_type": "code",
      "metadata": {
        "id": "TydQZcyy-LxW",
        "colab": {
          "base_uri": "https://localhost:8080/"
        },
        "outputId": "088e9166-78c3-4ddd-8a83-034cb531a77c"
      },
      "source": [
        "sns.boxplot(x=data_air['Hardness'])"
      ],
      "execution_count": null,
      "outputs": [
        {
          "output_type": "execute_result",
          "data": {
            "text/plain": [
              "<matplotlib.axes._subplots.AxesSubplot at 0x7fe3da36c390>"
            ]
          },
          "metadata": {},
          "execution_count": 10
        },
        {
          "output_type": "display_data",
          "data": {
            "image/png": "[encoded data removed]",
            "text/plain": [
              "<Figure size 432x288 with 1 Axes>"
            ]
          },
          "metadata": {
            "needs_background": "light"
          }
        }
      ]
    },
    {
      "cell_type": "markdown",
      "metadata": {
        "id": "JwhEHVwKwflx"
      },
      "source": [
        "Visualisasi Solids"
      ]
    },
    {
      "cell_type": "code",
      "metadata": {
        "id": "1k8M-3eH-QQJ",
        "colab": {
          "base_uri": "https://localhost:8080/"
        },
        "outputId": "306b17c1-5e12-41a7-c2d7-86de903f0e45"
      },
      "source": [
        "sns.boxplot(x=data_air['Solids'])"
      ],
      "execution_count": null,
      "outputs": [
        {
          "output_type": "execute_result",
          "data": {
            "text/plain": [
              "<matplotlib.axes._subplots.AxesSubplot at 0x7fe3d9ea06d0>"
            ]
          },
          "metadata": {},
          "execution_count": 11
        },
        {
          "output_type": "display_data",
          "data": {
            "image/png": "[encoded data removed]",
            "text/plain": [
              "<Figure size 432x288 with 1 Axes>"
            ]
          },
          "metadata": {
            "needs_background": "light"
          }
        }
      ]
    },
    {
      "cell_type": "markdown",
      "metadata": {
        "id": "nSy05r2lwma2"
      },
      "source": [
        "Visualisasi Chloramines"
      ]
    },
    {
      "cell_type": "code",
      "metadata": {
        "id": "Hv3tYC4E-WuM",
        "colab": {
          "base_uri": "https://localhost:8080/"
        },
        "outputId": "940931d7-c8ee-4cdd-edd6-e52041f0ecea"
      },
      "source": [
        "sns.boxplot(x=data_air['Chloramines'])"
      ],
      "execution_count": null,
      "outputs": [
        {
          "output_type": "execute_result",
          "data": {
            "text/plain": [
              "<matplotlib.axes._subplots.AxesSubplot at 0x7fe3d9e0f490>"
            ]
          },
          "metadata": {},
          "execution_count": 12
        },
        {
          "output_type": "display_data",
          "data": {
            "image/png": "[encoded data removed]",
            "text/plain": [
              "<Figure size 432x288 with 1 Axes>"
            ]
          },
          "metadata": {
            "needs_background": "light"
          }
        }
      ]
    },
    {
      "cell_type": "markdown",
      "metadata": {
        "id": "4lFYrUjlwsyL"
      },
      "source": [
        "Visualisasi Sulfate"
      ]
    },
    {
      "cell_type": "code",
      "metadata": {
        "id": "UVCdkJlWd0CD",
        "colab": {
          "base_uri": "https://localhost:8080/"
        },
        "outputId": "90cada60-1f20-46d8-911d-695f1564a6da"
      },
      "source": [
        "sns.boxplot(x=data_air['Sulfate'])"
      ],
      "execution_count": null,
      "outputs": [
        {
          "output_type": "execute_result",
          "data": {
            "text/plain": [
              "<matplotlib.axes._subplots.AxesSubplot at 0x7fe3d9d82e10>"
            ]
          },
          "metadata": {},
          "execution_count": 13
        },
        {
          "output_type": "display_data",
          "data": {
            "image/png": "[encoded data removed]",
            "text/plain": [
              "<Figure size 432x288 with 1 Axes>"
            ]
          },
          "metadata": {
            "needs_background": "light"
          }
        }
      ]
    },
    {
      "cell_type": "markdown",
      "metadata": {
        "id": "72_Bbc-0wxsr"
      },
      "source": [
        "Visualisasi Conductivity"
      ]
    },
    {
      "cell_type": "code",
      "metadata": {
        "id": "eA6Vgv2cd2JF",
        "colab": {
          "base_uri": "https://localhost:8080/"
        },
        "outputId": "b3e0d817-ada0-4799-de1b-a3b9c2bb4db3"
      },
      "source": [
        "sns.boxplot(x=data_air['Conductivity'])"
      ],
      "execution_count": null,
      "outputs": [
        {
          "output_type": "execute_result",
          "data": {
            "text/plain": [
              "<matplotlib.axes._subplots.AxesSubplot at 0x7fe3d9d75550>"
            ]
          },
          "metadata": {},
          "execution_count": 14
        },
        {
          "output_type": "display_data",
          "data": {
            "image/png": "[encoded data removed]",
            "text/plain": [
              "<Figure size 432x288 with 1 Axes>"
            ]
          },
          "metadata": {
            "needs_background": "light"
          }
        }
      ]
    },
    {
      "cell_type": "markdown",
      "metadata": {
        "id": "pbU89YpIw4TD"
      },
      "source": [
        "Visualisasi Organic_carbon"
      ]
    },
    {
      "cell_type": "code",
      "metadata": {
        "id": "OTu2aRiLd2oz",
        "colab": {
          "base_uri": "https://localhost:8080/"
        },
        "outputId": "c0f5e70d-ba9c-43e5-d8d1-261f07a9d3ec"
      },
      "source": [
        "sns.boxplot(x=data_air['Organic_carbon'])"
      ],
      "execution_count": null,
      "outputs": [
        {
          "output_type": "execute_result",
          "data": {
            "text/plain": [
              "<matplotlib.axes._subplots.AxesSubplot at 0x7fe3d9cde5d0>"
            ]
          },
          "metadata": {},
          "execution_count": 15
        },
        {
          "output_type": "display_data",
          "data": {
            "image/png": "[encoded data removed]",
            "text/plain": [
              "<Figure size 432x288 with 1 Axes>"
            ]
          },
          "metadata": {
            "needs_background": "light"
          }
        }
      ]
    },
    {
      "cell_type": "markdown",
      "metadata": {
        "id": "LCanwLMWxArB"
      },
      "source": [
        "Visualisasi Trihalomethanes"
      ]
    },
    {
      "cell_type": "code",
      "metadata": {
        "id": "04_WJM47d3IF",
        "colab": {
          "base_uri": "https://localhost:8080/"
        },
        "outputId": "18bee9fd-2635-4144-c9da-941cdee37ff1"
      },
      "source": [
        "sns.boxplot(x=data_air['Trihalomethanes'])"
      ],
      "execution_count": null,
      "outputs": [
        {
          "output_type": "execute_result",
          "data": {
            "text/plain": [
              "<matplotlib.axes._subplots.AxesSubplot at 0x7fe3d9c4d450>"
            ]
          },
          "metadata": {},
          "execution_count": 16
        },
        {
          "output_type": "display_data",
          "data": {
            "image/png": "[encoded data removed]",
            "text/plain": [
              "<Figure size 432x288 with 1 Axes>"
            ]
          },
          "metadata": {
            "needs_background": "light"
          }
        }
      ]
    },
    {
      "cell_type": "markdown",
      "metadata": {
        "id": "r5tMZbLgxHuU"
      },
      "source": [
        "Visualisasi Turbidity"
      ]
    },
    {
      "cell_type": "code",
      "metadata": {
        "id": "F2Z0-xZ6d3h_",
        "colab": {
          "base_uri": "https://localhost:8080/"
        },
        "outputId": "2cf61b28-4fd1-4a8a-ddec-6258b1f0c9c3"
      },
      "source": [
        "sns.boxplot(x=data_air['Turbidity'])"
      ],
      "execution_count": null,
      "outputs": [
        {
          "output_type": "execute_result",
          "data": {
            "text/plain": [
              "<matplotlib.axes._subplots.AxesSubplot at 0x7fe3d9c1b4d0>"
            ]
          },
          "metadata": {},
          "execution_count": 17
        },
        {
          "output_type": "display_data",
          "data": {
            "image/png": "[encoded data removed]",
            "text/plain": [
              "<Figure size 432x288 with 1 Axes>"
            ]
          },
          "metadata": {
            "needs_background": "light"
          }
        }
      ]
    },
    {
      "cell_type": "markdown",
      "metadata": {
        "id": "5G8A2VsW-pEY"
      },
      "source": [
        "##### IQR  \n",
        "Pada visualisasi data terlihat ada outliers. Maka digunakan metode IQR untuk mengatasinya."
      ]
    },
    {
      "cell_type": "code",
      "metadata": {
        "id": "D88jZM3F-1P7",
        "colab": {
          "base_uri": "https://localhost:8080/"
        },
        "outputId": "2da527ca-fe7c-4769-84a8-d8bcc09550df"
      },
      "source": [
        "Q1 = data_air.quantile(0.25)\n",
        "Q3 = data_air.quantile(0.75)\n",
        "IQR=Q3-Q1\n",
        "data_air=data_air[~((data_air<(Q1-1.5*IQR))|(data_air>(Q3+1.5*IQR))).any(axis=1)]\n",
        " \n",
        "# Cek ukuran dataset setelah kita drop outliers\n",
        "data_air.shape"
      ],
      "execution_count": null,
      "outputs": [
        {
          "output_type": "execute_result",
          "data": {
            "text/plain": [
              "(3217, 10)"
            ]
          },
          "metadata": {},
          "execution_count": 18
        }
      ]
    },
    {
      "cell_type": "markdown",
      "metadata": {
        "id": "FDuBeJnD_RD2"
      },
      "source": [
        "#### Univariate Analysis"
      ]
    },
    {
      "cell_type": "code",
      "metadata": {
        "id": "Gpt5vNwrFPUE",
        "colab": {
          "base_uri": "https://localhost:8080/",
          "height": 601
        },
        "outputId": "699d7ddd-214e-4e9d-a378-18b31604a611"
      },
      "source": [
        "data_air.hist(bins=50, figsize=(20,15))\n",
        "plt.show()"
      ],
      "execution_count": null,
      "outputs": [
        {
          "output_type": "display_data",
          "data": {
            "image/png": "[encoded data removed]",
            "text/plain": [
              "<Figure size 1440x1080 with 12 Axes>"
            ]
          },
          "metadata": {
            "needs_background": "light"
          }
        }
      ]
    },
    {
      "cell_type": "markdown",
      "metadata": {
        "id": "b26CgQlUHLN-"
      },
      "source": [
        "#### Multivariate Analysis"
      ]
    },
    {
      "cell_type": "markdown",
      "metadata": {
        "id": "GMyDhx7oyCFD"
      },
      "source": [
        "Mengamati hubungan antar fitur dengan skor relasi."
      ]
    },
    {
      "cell_type": "code",
      "metadata": {
        "id": "flRdeXmbpq10",
        "colab": {
          "base_uri": "https://localhost:8080/",
          "height": 594
        },
        "outputId": "a4f67d99-e39b-439f-ef6b-c5e3f8cc9b9a"
      },
      "source": [
        "plt.figure(figsize=(10, 8))\n",
        "correlation_matrix = data_air.corr().round(2)\n",
        "sns.heatmap(data=correlation_matrix, annot=True, cmap='coolwarm', linewidths=0.5, )\n",
        "plt.title(\"Correlation Matrix \", size=20)"
      ],
      "execution_count": null,
      "outputs": [
        {
          "output_type": "execute_result",
          "data": {
            "text/plain": [
              "Text(0.5, 1.0, 'Correlation Matrix ')"
            ]
          },
          "metadata": {},
          "execution_count": 20
        },
        {
          "output_type": "display_data",
          "data": {
            "image/png": "[encoded data removed]",
            "text/plain": [
              "<Figure size 720x576 with 2 Axes>"
            ]
          },
          "metadata": {
            "needs_background": "light"
          }
        }
      ]
    },
    {
      "cell_type": "markdown",
      "metadata": {
        "id": "a5-IKolGr21Y"
      },
      "source": [
        "Dilihat dari correlation matrix, masing-masing fitur tidak berkorelasi langsung dengan Potability. Jadi dilanjutkan dengan mempertahankan semua fitur."
      ]
    },
    {
      "cell_type": "markdown",
      "metadata": {
        "id": "U_JK6QAevNSB"
      },
      "source": [
        "## Data Preparation\n",
        "Setelah membersihkan data dengan menghilangkan *missing value*, menyeimbangkan potability, dan mengatasi *outlierss* dengan IQR dilanjutkan dengan membagi data latih dan data uji."
      ]
    },
    {
      "cell_type": "markdown",
      "metadata": {
        "id": "KmehLZAzyO0V"
      },
      "source": [
        "### Train-Test-Split\n",
        "Membagi dataset dengan komposisi 80:20"
      ]
    },
    {
      "cell_type": "code",
      "metadata": {
        "colab": {
          "base_uri": "https://localhost:8080/"
        },
        "id": "ThPN8pfPvsCX",
        "outputId": "0308c516-aa05-46ad-a49c-2d40739161c2"
      },
      "source": [
        "X = data_air.drop([\"Potability\"],axis =1)\n",
        "y = data_air[\"Potability\"]\n",
        "X_train, X_test, y_train, y_test = train_test_split(X, y, test_size = 0.2, random_state = 123)\n",
        "\n",
        "print(f'Total # of sample in whole dataset: {len(X)}')\n",
        "print(f'Total # of sample in train dataset: {len(X_train)}')\n",
        "print(f'Total # of sample in test dataset: {len(X_test)}')"
      ],
      "execution_count": null,
      "outputs": [
        {
          "output_type": "stream",
          "name": "stdout",
          "text": [
            "Total # of sample in whole dataset: 3217\n",
            "Total # of sample in train dataset: 2573\n",
            "Total # of sample in test dataset: 644\n"
          ]
        }
      ]
    },
    {
      "cell_type": "markdown",
      "metadata": {
        "id": "41t587uV2v6f"
      },
      "source": [
        "## Model Development\n"
      ]
    },
    {
      "cell_type": "markdown",
      "metadata": {
        "id": "v4jU5Xqy37-O"
      },
      "source": [
        "### Random Forest\n",
        "Menggunakan ***RandomForestClassifier*** karena konteks dari data adalah klasifikasi."
      ]
    },
    {
      "cell_type": "code",
      "metadata": {
        "id": "MXHJ6p5k3OZK",
        "colab": {
          "base_uri": "https://localhost:8080/"
        },
        "outputId": "4ddd19e0-f514-409d-e843-ab3a20fae9ea"
      },
      "source": [
        "RF = RandomForestClassifier(n_estimators=100, max_depth=13, random_state=55)\n",
        "RF.fit(X_train, y_train)"
      ],
      "execution_count": null,
      "outputs": [
        {
          "output_type": "execute_result",
          "data": {
            "text/plain": [
              "RandomForestClassifier(bootstrap=True, ccp_alpha=0.0, class_weight=None,\n",
              "                       criterion='gini', max_depth=13, max_features='auto',\n",
              "                       max_leaf_nodes=None, max_samples=None,\n",
              "                       min_impurity_decrease=0.0, min_impurity_split=None,\n",
              "                       min_samples_leaf=1, min_samples_split=2,\n",
              "                       min_weight_fraction_leaf=0.0, n_estimators=100,\n",
              "                       n_jobs=None, oob_score=False, random_state=55, verbose=0,\n",
              "                       warm_start=False)"
            ]
          },
          "metadata": {},
          "execution_count": 22
        }
      ]
    },
    {
      "cell_type": "markdown",
      "metadata": {
        "id": "DiP6GTzX4_p7"
      },
      "source": [
        "## Evaluasi dengan Classification Report"
      ]
    },
    {
      "cell_type": "markdown",
      "metadata": {
        "id": "jYHb12b0cBdP"
      },
      "source": [
        "Evaluasi menggunakan metrik Classification Report.  Classification Report dapat menunjukkan nilai dari *precission, recall, f1-score* dan *accuray* yang mana jika ketiga nilai tersebut semakin mendekati 1 maka semakin baik juga model yang dibangun."
      ]
    },
    {
      "cell_type": "code",
      "metadata": {
        "colab": {
          "base_uri": "https://localhost:8080/"
        },
        "id": "sIplsFZ7InxJ",
        "outputId": "b1408c2a-1a1d-4397-a5b0-4b71d509ee07"
      },
      "source": [
        "y_pred_test = RF.predict(X_test)\n",
        "\n",
        "print(classification_report(y_test, y_pred_test))"
      ],
      "execution_count": null,
      "outputs": [
        {
          "output_type": "stream",
          "name": "stdout",
          "text": [
            "              precision    recall  f1-score   support\n",
            "\n",
            "           0       0.77      0.86      0.82       331\n",
            "           1       0.83      0.73      0.78       313\n",
            "\n",
            "    accuracy                           0.80       644\n",
            "   macro avg       0.80      0.80      0.80       644\n",
            "weighted avg       0.80      0.80      0.80       644\n",
            "\n"
          ]
        }
      ]
    },
    {
      "cell_type": "markdown",
      "metadata": {
        "id": "hpni6lGMNpur"
      },
      "source": [
        "Prediksi dengan menggunakan 50 data test."
      ]
    },
    {
      "cell_type": "code",
      "metadata": {
        "colab": {
          "base_uri": "https://localhost:8080/",
          "height": 362
        },
        "id": "1ajQwpzECwHw",
        "outputId": "30b9b609-ccfb-4b0b-9a0f-34ab26724a6a"
      },
      "source": [
        "prediksi = X_test.iloc[:50].copy()\n",
        "pred_dict = {'y_true':y_test[:50]}\n",
        "pred_dict['prediksi'] = RF.predict(prediksi)\n",
        " \n",
        "sum_test = pd.DataFrame(pred_dict)\n",
        "sum_test.head(10)"
      ],
      "execution_count": null,
      "outputs": [
        {
          "output_type": "execute_result",
          "data": {
            "text/html": [
              "<div>\n",
              "<style scoped>\n",
              "    .dataframe tbody tr th:only-of-type {\n",
              "        vertical-align: middle;\n",
              "    }\n",
              "\n",
              "    .dataframe tbody tr th {\n",
              "        vertical-align: top;\n",
              "    }\n",
              "\n",
              "    .dataframe thead th {\n",
              "        text-align: right;\n",
              "    }\n",
              "</style>\n",
              "<table border=\"1\" class=\"dataframe\">\n",
              "  <thead>\n",
              "    <tr style=\"text-align: right;\">\n",
              "      <th></th>\n",
              "      <th>y_true</th>\n",
              "      <th>prediksi</th>\n",
              "    </tr>\n",
              "  </thead>\n",
              "  <tbody>\n",
              "    <tr>\n",
              "      <th>1067</th>\n",
              "      <td>0</td>\n",
              "      <td>0</td>\n",
              "    </tr>\n",
              "    <tr>\n",
              "      <th>598</th>\n",
              "      <td>0</td>\n",
              "      <td>0</td>\n",
              "    </tr>\n",
              "    <tr>\n",
              "      <th>96</th>\n",
              "      <td>0</td>\n",
              "      <td>0</td>\n",
              "    </tr>\n",
              "    <tr>\n",
              "      <th>1899</th>\n",
              "      <td>1</td>\n",
              "      <td>0</td>\n",
              "    </tr>\n",
              "    <tr>\n",
              "      <th>280</th>\n",
              "      <td>1</td>\n",
              "      <td>1</td>\n",
              "    </tr>\n",
              "    <tr>\n",
              "      <th>3128</th>\n",
              "      <td>1</td>\n",
              "      <td>1</td>\n",
              "    </tr>\n",
              "    <tr>\n",
              "      <th>699</th>\n",
              "      <td>1</td>\n",
              "      <td>1</td>\n",
              "    </tr>\n",
              "    <tr>\n",
              "      <th>1133</th>\n",
              "      <td>1</td>\n",
              "      <td>1</td>\n",
              "    </tr>\n",
              "    <tr>\n",
              "      <th>1987</th>\n",
              "      <td>1</td>\n",
              "      <td>1</td>\n",
              "    </tr>\n",
              "    <tr>\n",
              "      <th>3263</th>\n",
              "      <td>1</td>\n",
              "      <td>1</td>\n",
              "    </tr>\n",
              "  </tbody>\n",
              "</table>\n",
              "</div>"
            ],
            "text/plain": [
              "      y_true  prediksi\n",
              "1067       0         0\n",
              "598        0         0\n",
              "96         0         0\n",
              "1899       1         0\n",
              "280        1         1\n",
              "3128       1         1\n",
              "699        1         1\n",
              "1133       1         1\n",
              "1987       1         1\n",
              "3263       1         1"
            ]
          },
          "metadata": {},
          "execution_count": 24
        }
      ]
    },
    {
      "cell_type": "markdown",
      "metadata": {
        "id": "SyRgVxWFN2Dd"
      },
      "source": [
        "Menghitung jumlah prediksi yang benar."
      ]
    },
    {
      "cell_type": "code",
      "metadata": {
        "colab": {
          "base_uri": "https://localhost:8080/"
        },
        "id": "7V5Dif8x4pQQ",
        "outputId": "e24a6326-4ecd-4ee9-84f4-951c9402f78e"
      },
      "source": [
        "sum_test = sum_test.index\n",
        "\n",
        "true_RF = 0\n",
        "\n",
        "j = 0\n",
        "for i in sum_test:\n",
        "    if (pred_dict['y_true'][i] == pred_dict['prediksi'][j]).all():\n",
        "      true_RF += 1\n",
        "    j+=1\n",
        "\n",
        "print('true_RF = ', true_RF)"
      ],
      "execution_count": null,
      "outputs": [
        {
          "output_type": "stream",
          "name": "stdout",
          "text": [
            "true_RF =  43\n"
          ]
        }
      ]
    },
    {
      "cell_type": "markdown",
      "metadata": {
        "id": "PrSAoZSFcM_O"
      },
      "source": [
        "Prediksi dengan 50 y_test, didapatkan bahwa Random Forest dapat memprediksi 44 sampel dengan benar. Hal ini berarti bahwa model sudah cukup baik untuk memprediksi kelayakan air.  \n",
        "Dari model yang dirancang dan evaluasi yang dilakukan, disimpulkan bahwa tidak ada paramater yang paling berpengaruh terhadap kelayakan air dan  model Random Forest cukup baik dan dapat digunakan untuk memprediksi kelayakan air."
      ]
    }
  ]
}